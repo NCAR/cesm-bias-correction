{
 "cells": [
  {
   "cell_type": "code",
   "execution_count": 7,
   "metadata": {},
   "outputs": [],
   "source": [
    "import argparse \n",
    "import ast\n",
    "\n",
    "import cf_xarray\n",
    "#import cftime\n",
    "import geocat.comp as gcomp\n",
    "#import holoviews as hv\n",
    "#import hvplot\n",
    "#import hvplot.xarray\n",
    "#import intake\n",
    "import numpy as np\n",
    "#import pop_tools\n",
    "import xarray as xr\n",
    "import xesmf as xe\n",
    "\n",
    "#from distributed import Client\n",
    "#from ncar_jobqueue import NCARCluster\n",
    "#from pop_tools.grid import _compute_corners\n",
    "\n",
    "import logging \n",
    "import netCDF4 as nc"
   ]
  },
  {
   "attachments": {},
   "cell_type": "markdown",
   "metadata": {},
   "source": [
    "## Questions: \n",
    "Do certain variables still need to be reversed?  \n",
    "Is surface geopotential and lowest layer geopotential treated the same here? \n",
    "Does geocat's interp function work across time? \n",
    "TO DO:  \n",
    "Implement weight reuse  \n",
    "Implement pressure levels   \n",
    "Fix wrong standard name for SST  \n",
    "Add hooks for user-defined reference pressure?  \n",
    "Fix up METGRID default value  \n",
    "Implement unit converter (pint) or unit checker  \n",
    "NOTES:   \n",
    "Created a branch for a version that works on cf-compliant data  \n",
    " \n"
   ]
  },
  {
   "cell_type": "code",
   "execution_count": 8,
   "metadata": {},
   "outputs": [],
   "source": [
    "#Command line option handling ----------------------------------------------------------------------------------\n",
    "parser = argparse.ArgumentParser()  \n",
    "logging.basicConfig(level=logging.DEBUG)\n",
    "current_log_level = logging.getLogger().getEffectiveLevel() \n",
    "\n",
    "parser.add_argument('CASE',type=str, help='One of the following IPCC Climate Scenarios: 20THC/RCP85/RCP60/RCP45')\n",
    "parser.add_argument('--o',type=str,help='Output directory path')\n",
    "parser.add_argument('--mode','-m',type=str,help='Set logging mode: DEBUG/INFO/WARNING/ERROR/CRITICAL')\n",
    "parser.add_argument('--plev',type=str, help=\"File name of desired output pressure levels\")\n",
    "parser.add_argument('--weights',type=str, help=\"File name if reusing regridding weights\")\n",
    "\n",
    "if current_log_level != 10: \n",
    "    args = parser.parse_args()"
   ]
  },
  {
   "cell_type": "code",
   "execution_count": 9,
   "metadata": {},
   "outputs": [
    {
     "name": "stderr",
     "output_type": "stream",
     "text": [
      "INFO:root:Opening data files...\n"
     ]
    }
   ],
   "source": [
    "#File Handling ----------------------------------------------------------------------------------\n",
    "\n",
    "logging.info(\"Opening data files...\")\n",
    "\n",
    "in_ta = xr.open_dataset(\"atmos_ta.nc\")         # 6-hourly 3-d T\n",
    "in_ua = xr.open_dataset(\"atmos_ua.nc\")         # 6-hourly 3-d U\n",
    "in_va = xr.open_dataset(\"atmos_va.nc\")         # 6-hourly 3-d V\n",
    "in_hus = xr.open_dataset(\"atmos_hus.nc\")       # 6-hourly 3-d Q\n",
    "in_ps = xr.open_dataset(\"atmos_ps.nc\")         # 6-hourly surface pressure\n",
    "in_zsfc = xr.open_dataset(\"atmos_zsfc.nc\")     # static surface geopotential\n",
    "in_lmask = xr.open_dataset(\"atmos_lmask.nc\")   # static land mask\n",
    "in_snw = xr.open_dataset(\"atmos_snw_1.nc\")     # monthly SWE\n",
    "in_mrlsl = xr.open_dataset(\"atmos_mrlsl_1.nc\") # monthly soil moisture\n",
    "in_ts = xr.open_dataset(\"atmos_ts_1.nc\")       # monthly skin temp\n",
    "in_tsl = xr.open_dataset(\"atmos_tsl_1.nc\")     # monthly soil temp\n",
    "in_tos = xr.open_dataset(\"atmos_tos_1.nc\")     # daily SST on pop grid (gaussian)\n",
    "in_sic = xr.open_dataset(\"atmos_sic_1.nc\")     # daily SEAICE % on POP grid (gaussian)"
   ]
  },
  {
   "cell_type": "code",
   "execution_count": 10,
   "metadata": {},
   "outputs": [
    {
     "name": "stderr",
     "output_type": "stream",
     "text": [
      "INFO:root:Converting Parallel Ocean Program data to coordinate system of atmospheric grid...\n",
      "/glade/work/wukenton/conda-envs/python_correct/lib/python3.9/site-packages/cf_xarray/accessor.py:1772: UserWarning: Variables {'areacello'} not found in object but are referred to in the CF attributes.\n",
      "  warnings.warn(\n",
      "/glade/work/wukenton/conda-envs/python_correct/lib/python3.9/site-packages/xesmf/smm.py:130: UserWarning: Input array is not C_CONTIGUOUS. Will affect performance.\n",
      "  warnings.warn('Input array is not C_CONTIGUOUS. ' 'Will affect performance.')\n"
     ]
    },
    {
     "name": "stdout",
     "output_type": "stream",
     "text": [
      "<xarray.Dataset>\n",
      "Dimensions:   (vertices: 4, lat: 192, lon: 288, time: 92)\n",
      "Coordinates:\n",
      "  * time      (time) object 2006-10-01 12:00:00 ... 2006-12-31 12:00:00\n",
      "  * lat       (lat) float64 -90.0 -89.06 -88.12 -87.17 ... 88.12 89.06 90.0\n",
      "  * lon       (lon) float64 0.0 1.25 2.5 3.75 5.0 ... 355.0 356.2 357.5 358.8\n",
      "Dimensions without coordinates: vertices\n",
      "Data variables:\n",
      "    lon_bnds  (vertices, lat, lon) float32 nan nan nan nan ... 248.7 248.7 248.7\n",
      "    lat_bnds  (vertices, lat, lon) float32 nan nan nan nan ... 89.65 89.65 89.65\n",
      "    tos       (time, lat, lon) float32 nan nan nan nan ... 271.3 271.3 271.3\n",
      "    mask      (lat, lon) bool True True True True True ... True True True True\n",
      "Attributes:\n",
      "    regrid_method:  bilinear\n"
     ]
    }
   ],
   "source": [
    "#Regrid SST and SEA ICE fields to CESM Atmospheric Domain ----------------------------------------------------------------------------------\n",
    "\n",
    "logging.info('Converting Parallel Ocean Program data to coordinate system of atmospheric grid...')\n",
    "\n",
    "SST = in_tos.cf['surface_temperature']\n",
    "#Create a mask (not needed for interpolating to atmospheric grid, but just in case there are missing values)\n",
    "#NOTE THAT THIS CF REFERENCE IS WRONG. SST IS THE CORRECT STANDARD NAME WHICH NEEDS TO BE CORRECTED IN THE DATA\n",
    "in_tos[\"mask\"] = ~SST.cf.isel(time=0).isnull()\n",
    "\n",
    "#Regrids SST grid to whatever the atmospheric grid is automatically\n",
    "regrid = xe.Regridder(in_tos, in_ta, method = 'bilinear', periodic=True, unmapped_to_nan=True)\n",
    "regrid.to_netcdf('weights_gx1v6_latlon.nc') #write out weights for reuse \n",
    "\n",
    "regridded_SST = regrid(in_tos)\n",
    "\n",
    "if current_log_level == 10: \n",
    "    print(regridded_SST)\n",
    "#regridded_SST.to_netcdf('python_regrid.nc')\n",
    "#\n",
    "#use some sort of broadcasting or view here to clone to a 6-hrly variable"
   ]
  },
  {
   "cell_type": "code",
   "execution_count": 11,
   "metadata": {},
   "outputs": [],
   "source": [
    "#Prepare Variables for Interpolation ----------------------------------------------------------------------------------\n",
    "hyam = in_ta.cf['hyam'] \n",
    "hybm = in_ta.cf['hybm']\n",
    "hyai = in_ta.cf['hyai']\n",
    "hybi = in_ta.cf['hybi']\n",
    "\n",
    "surf_pressure = in_ps.cf['PS']\n",
    "\n",
    "def psl_ecmwf(temp_bottom: xr.DataArray, phi_surf: xr.DataArray, pressure_surf: xr.DataArray, pressure_bot: xr.DataArray): \n",
    "    #Based on the NCAR Technical Note \"Vertical Interpolation and Truncation of Model-Coordinate Data\"\n",
    "    #By Trenberth, Berry, Buja; Dec 1993 \n",
    "    #temp_surf = T_*, temp_bottom = T_NL, pressure_surf = p_s, pressure_bot = p_NL, phi_surf = \\phi_s\n",
    "\n",
    "    LAPSE_RATE = 0.0065     #Kelvin per meter\n",
    "    GRAV_CONST = 9.80616    #Meters per second per second\n",
    "    SPEC_GAS_CONST = 287.04 #Joules per kilogram per Kelvin\n",
    "\n",
    "    ALPHA_0 = LAPSE_RATE*SPEC_GAS_CONST/GRAV_CONST\n",
    "    \n",
    "    temp_surf = temp_bottom + ALPHA_0*temp_bottom*(pressure_surf/pressure_bot - 1) #3b.5\n",
    "    \n",
    "    temp_bot_lapse = temp_surf + LAPSE_RATE*phi_surf/GRAV_CONST #denoted T_0 in doc, 3b.13\n",
    "    \n",
    "    #Create a case mask (doing this to avoid using xr.where, which has no short circuit)\n",
    "    where_case = np.zeros_like(pressure_surf, dtype=np.ubyte)\n",
    "    where_case[temp_surf <= 290.5 & temp_bot_lapse > 290.5]   = 1\n",
    "    where_case[temp_surf > 290.5 & temp_bot_lapse > 290.5]    = 2\n",
    "    where_case[temp_surf < 255]                               = 3\n",
    "\n",
    "    psl = np.empty_like(pressure_surf)\n",
    "    for num in [0,1,2,3]: \n",
    "        ps = pressure_surf[where_case==num] \n",
    "        T_star = temp_surf[where_case==num]\n",
    "        phi_s = phi_surf[where_case==num]\n",
    "        match num : \n",
    "            case 0: alphas = ALPHA_0\n",
    "            case 1: alphas = SPEC_GAS_CONST/phi_s*(290.5-T_star) \n",
    "            case 3: alphas = 0\n",
    "            case 4: alphas = ALPHA_0\n",
    "        combo_term = phi_s/SPEC_GAS_CONST/T_star\n",
    "\n",
    "        psl[where_case==0] = ps*np.exp(combo_term*(1-1/2*alphas*combo_term+1/3*(alphas*combo_term)**2)) #3b.12\n",
    "    \n",
    "\n",
    "    ## may be able to cheapen this operation by implementing some soft of short circuit behavior...\n",
    "\n",
    "    pressure_mean_sea_level = xr.where(np.absolute(phi_sfc/GRAV_CONST) < 1e-4, pressure_surf, pressure_mean_sea_level)\n",
    "\n",
    "\n",
    "\n",
    "\n",
    "\n",
    "\n",
    "default_levs = np.array([1000.0, 975.0, 950.0, 925.0, 900.0, 850.0, 800.0, 750.0, 700.0, 650.0, 600.0, 550.0, 500.0, \\\n",
    "             450.0, 400.0, 350.0, 300.0, 250.0, 200.0, 150.0, 100.0, 70.0, 50.0, 30.0, 20.0, 10.0 ])\n",
    "\n",
    "temp = in_ta[\"T\"]"
   ]
  },
  {
   "cell_type": "code",
   "execution_count": 12,
   "metadata": {},
   "outputs": [
    {
     "name": "stderr",
     "output_type": "stream",
     "text": [
      "INFO:root:Interpolating variables to pressure coordinates...\n"
     ]
    },
    {
     "name": "stdout",
     "output_type": "stream",
     "text": [
      "<xarray.DataArray 'T' (time: 368, lev: 26, lat: 192, lon: 288)>\n",
      "[529072128 values with dtype=float32]\n",
      "Coordinates:\n",
      "  * lat      (lat) float64 -90.0 -89.06 -88.12 -87.17 ... 87.17 88.12 89.06 90.0\n",
      "  * lev      (lev) float64 3.545 7.389 13.97 23.94 ... 867.2 929.6 970.6 992.6\n",
      "  * lon      (lon) float64 0.0 1.25 2.5 3.75 5.0 ... 355.0 356.2 357.5 358.8\n",
      "  * time     (time) object 2006-10-01 00:00:00 ... 2006-12-31 18:00:00\n",
      "Attributes:\n",
      "    units:      K\n",
      "    long_name:  Temperature\n",
      "<xarray.DataArray 'PS' (time: 368, lat: 192, lon: 288)>\n",
      "[20348928 values with dtype=float32]\n",
      "Coordinates:\n",
      "  * lat      (lat) float64 -90.0 -89.06 -88.12 -87.17 ... 87.17 88.12 89.06 90.0\n",
      "  * lon      (lon) float64 0.0 1.25 2.5 3.75 5.0 ... 355.0 356.2 357.5 358.8\n",
      "  * time     (time) object 2006-10-01 00:00:00 ... 2006-12-31 18:00:00\n",
      "Attributes:\n",
      "    units:      Pa\n",
      "    long_name:  Surface pressure\n",
      "<xarray.DataArray 'PHIS' (lat: 192, lon: 288)>\n",
      "[55296 values with dtype=float64]\n",
      "Coordinates:\n",
      "  * lat      (lat) float64 -90.0 -89.06 -88.12 -87.17 ... 87.17 88.12 89.06 90.0\n",
      "  * lon      (lon) float64 0.0 1.25 2.5 3.75 5.0 ... 355.0 356.2 357.5 358.8\n",
      "Attributes:\n",
      "    long_name:   surface geopotential\n",
      "    units:       m2/s2\n",
      "    from_hires:  true\n",
      "    filter:      remap\n"
     ]
    },
    {
     "ename": "ValueError",
     "evalue": "cannot align objects with join='exact' where index/labels/sizes are not equal along these coordinates (dimensions): 'lat' ('lat',)",
     "output_type": "error",
     "traceback": [
      "\u001b[0;31m---------------------------------------------------------------------------\u001b[0m",
      "\u001b[0;31mValueError\u001b[0m                                Traceback (most recent call last)",
      "Cell \u001b[0;32mIn[12], line 6\u001b[0m\n\u001b[1;32m      2\u001b[0m logging\u001b[39m.\u001b[39minfo(\u001b[39m\"\u001b[39m\u001b[39mInterpolating variables to pressure coordinates...\u001b[39m\u001b[39m\"\u001b[39m)\n\u001b[1;32m      4\u001b[0m \u001b[39mif\u001b[39;00m current_log_level \u001b[39m==\u001b[39m \u001b[39m10\u001b[39m: \u001b[39mprint\u001b[39m(temp); \u001b[39mprint\u001b[39m(surf_pressure); \u001b[39mprint\u001b[39m(in_zsfc[\u001b[39m'\u001b[39m\u001b[39mPHIS\u001b[39m\u001b[39m'\u001b[39m]); \n\u001b[0;32m----> 6\u001b[0m temp_interp \u001b[39m=\u001b[39m gcomp\u001b[39m.\u001b[39;49minterpolation\u001b[39m.\u001b[39;49minterp_hybrid_to_pressure(temp\u001b[39m.\u001b[39;49misel(time\u001b[39m=\u001b[39;49m\u001b[39m0\u001b[39;49m),surf_pressure\u001b[39m.\u001b[39;49misel(time\u001b[39m=\u001b[39;49m\u001b[39m0\u001b[39;49m),hyam,hybm, \n\u001b[1;32m      7\u001b[0m                                                             new_levels\u001b[39m=\u001b[39;49mdefault_levs, \n\u001b[1;32m      8\u001b[0m                                                             lev_dim \u001b[39m=\u001b[39;49m \u001b[39m'\u001b[39;49m\u001b[39mlev\u001b[39;49m\u001b[39m'\u001b[39;49m, \n\u001b[1;32m      9\u001b[0m                                                             method\u001b[39m=\u001b[39;49m\u001b[39m'\u001b[39;49m\u001b[39mlog\u001b[39;49m\u001b[39m'\u001b[39;49m,\n\u001b[1;32m     10\u001b[0m                                                             extrapolate\u001b[39m=\u001b[39;49m\u001b[39mTrue\u001b[39;49;00m,\n\u001b[1;32m     11\u001b[0m                                                             variable\u001b[39m=\u001b[39;49m\u001b[39m'\u001b[39;49m\u001b[39mtemperature\u001b[39;49m\u001b[39m'\u001b[39;49m,\n\u001b[1;32m     12\u001b[0m                                                             t_bot\u001b[39m=\u001b[39;49mtemp\u001b[39m.\u001b[39;49misel(lev\u001b[39m=\u001b[39;49m\u001b[39m-\u001b[39;49m\u001b[39m1\u001b[39;49m,time\u001b[39m=\u001b[39;49m\u001b[39m0\u001b[39;49m),\n\u001b[1;32m     13\u001b[0m                                                             phi_sfc\u001b[39m=\u001b[39;49min_zsfc[\u001b[39m'\u001b[39;49m\u001b[39mPHIS\u001b[39;49m\u001b[39m'\u001b[39;49m])\n",
      "File \u001b[0;32m/glade/work/wukenton/conda-envs/python_correct/lib/python3.9/site-packages/geocat/comp/interpolation.py:516\u001b[0m, in \u001b[0;36minterp_hybrid_to_pressure\u001b[0;34m(data, ps, hyam, hybm, p0, new_levels, lev_dim, method, extrapolate, variable, t_bot, phi_sfc)\u001b[0m\n\u001b[1;32m    513\u001b[0m output \u001b[39m=\u001b[39m output\u001b[39m.\u001b[39mtranspose(\u001b[39m*\u001b[39mdims)\u001b[39m.\u001b[39massign_coords(coords)\n\u001b[1;32m    515\u001b[0m \u001b[39mif\u001b[39;00m extrapolate:\n\u001b[0;32m--> 516\u001b[0m     output \u001b[39m=\u001b[39m _vertical_remap_extrap(new_levels, lev_dim, data, output,\n\u001b[1;32m    517\u001b[0m                                     pressure, ps, variable, t_bot, phi_sfc)\n\u001b[1;32m    519\u001b[0m \u001b[39mreturn\u001b[39;00m output\n",
      "File \u001b[0;32m/glade/work/wukenton/conda-envs/python_correct/lib/python3.9/site-packages/geocat/comp/interpolation.py:296\u001b[0m, in \u001b[0;36m_vertical_remap_extrap\u001b[0;34m(new_levels, lev_dim, data, output, pressure, ps, variable, t_bot, phi_sfc)\u001b[0m\n\u001b[1;32m    292\u001b[0m \u001b[39mif\u001b[39;00m variable \u001b[39m==\u001b[39m \u001b[39m'\u001b[39m\u001b[39mtemperature\u001b[39m\u001b[39m'\u001b[39m:\n\u001b[1;32m    293\u001b[0m     \u001b[39mfor\u001b[39;00m lev \u001b[39min\u001b[39;00m new_levels:\n\u001b[1;32m    294\u001b[0m         output\u001b[39m.\u001b[39mloc[\u001b[39mdict\u001b[39m(plev\u001b[39m=\u001b[39mlev)] \u001b[39m=\u001b[39m xr\u001b[39m.\u001b[39mwhere(\n\u001b[1;32m    295\u001b[0m             lev \u001b[39m<\u001b[39m\u001b[39m=\u001b[39m p_sfc, output\u001b[39m.\u001b[39msel(plev\u001b[39m=\u001b[39mlev),\n\u001b[0;32m--> 296\u001b[0m             _temp_extrapolate(data, lev_dim, lev, p_sfc, ps, phi_sfc))\n\u001b[1;32m    298\u001b[0m \u001b[39melif\u001b[39;00m variable \u001b[39m==\u001b[39m \u001b[39m'\u001b[39m\u001b[39mgeopotential\u001b[39m\u001b[39m'\u001b[39m:\n\u001b[1;32m    299\u001b[0m     \u001b[39mfor\u001b[39;00m lev \u001b[39min\u001b[39;00m new_levels:\n",
      "File \u001b[0;32m/glade/work/wukenton/conda-envs/python_correct/lib/python3.9/site-packages/geocat/comp/interpolation.py:179\u001b[0m, in \u001b[0;36m_temp_extrapolate\u001b[0;34m(data, lev_dim, lev, p_sfc, ps, phi_sfc)\u001b[0m\n\u001b[1;32m    176\u001b[0m t0 \u001b[39m=\u001b[39m tstar \u001b[39m+\u001b[39m \u001b[39m0.0065\u001b[39m \u001b[39m*\u001b[39m hgt\n\u001b[1;32m    177\u001b[0m tplat \u001b[39m=\u001b[39m xr\u001b[39m.\u001b[39mapply_ufunc(np\u001b[39m.\u001b[39mminimum, \u001b[39m298\u001b[39m, t0, dask\u001b[39m=\u001b[39m\u001b[39m'\u001b[39m\u001b[39mparallelized\u001b[39m\u001b[39m'\u001b[39m)\n\u001b[0;32m--> 179\u001b[0m tprime0 \u001b[39m=\u001b[39m xr\u001b[39m.\u001b[39;49mwhere((\u001b[39m2000\u001b[39;49m \u001b[39m<\u001b[39;49m\u001b[39m=\u001b[39;49m hgt) \u001b[39m&\u001b[39;49m (hgt \u001b[39m<\u001b[39;49m\u001b[39m=\u001b[39;49m \u001b[39m2500\u001b[39;49m),\n\u001b[1;32m    180\u001b[0m                    \u001b[39m0.002\u001b[39;49m \u001b[39m*\u001b[39;49m ((\u001b[39m2500\u001b[39;49m \u001b[39m-\u001b[39;49m hgt) \u001b[39m*\u001b[39;49m t0 \u001b[39m+\u001b[39;49m ((hgt \u001b[39m-\u001b[39;49m \u001b[39m2000\u001b[39;49m) \u001b[39m*\u001b[39;49m tplat)),\n\u001b[1;32m    181\u001b[0m                    np\u001b[39m.\u001b[39;49mnan)\n\u001b[1;32m    182\u001b[0m tprime0 \u001b[39m=\u001b[39m xr\u001b[39m.\u001b[39mwhere(\u001b[39m2500\u001b[39m \u001b[39m<\u001b[39m hgt, tplat, tprime0)\n\u001b[1;32m    184\u001b[0m alnp \u001b[39m=\u001b[39m xr\u001b[39m.\u001b[39mwhere(hgt \u001b[39m<\u001b[39m \u001b[39m2000\u001b[39m, alpha \u001b[39m*\u001b[39m np\u001b[39m.\u001b[39mlog(lev \u001b[39m/\u001b[39m ps),\n\u001b[1;32m    185\u001b[0m                 R_d \u001b[39m*\u001b[39m (tprime0 \u001b[39m-\u001b[39m tstar) \u001b[39m/\u001b[39m phi_sfc \u001b[39m*\u001b[39m np\u001b[39m.\u001b[39mlog(lev \u001b[39m/\u001b[39m ps))\n",
      "File \u001b[0;32m/glade/work/wukenton/conda-envs/python_correct/lib/python3.9/site-packages/xarray/core/computation.py:1862\u001b[0m, in \u001b[0;36mwhere\u001b[0;34m(cond, x, y, keep_attrs)\u001b[0m\n\u001b[1;32m   1859\u001b[0m     keep_attrs \u001b[39m=\u001b[39m _get_keep_attrs(default\u001b[39m=\u001b[39m\u001b[39mFalse\u001b[39;00m)\n\u001b[1;32m   1861\u001b[0m \u001b[39m# alignment for three arguments is complicated, so don't support it yet\u001b[39;00m\n\u001b[0;32m-> 1862\u001b[0m result \u001b[39m=\u001b[39m apply_ufunc(\n\u001b[1;32m   1863\u001b[0m     duck_array_ops\u001b[39m.\u001b[39;49mwhere,\n\u001b[1;32m   1864\u001b[0m     cond,\n\u001b[1;32m   1865\u001b[0m     x,\n\u001b[1;32m   1866\u001b[0m     y,\n\u001b[1;32m   1867\u001b[0m     join\u001b[39m=\u001b[39;49m\u001b[39m\"\u001b[39;49m\u001b[39mexact\u001b[39;49m\u001b[39m\"\u001b[39;49m,\n\u001b[1;32m   1868\u001b[0m     dataset_join\u001b[39m=\u001b[39;49m\u001b[39m\"\u001b[39;49m\u001b[39mexact\u001b[39;49m\u001b[39m\"\u001b[39;49m,\n\u001b[1;32m   1869\u001b[0m     dask\u001b[39m=\u001b[39;49m\u001b[39m\"\u001b[39;49m\u001b[39mallowed\u001b[39;49m\u001b[39m\"\u001b[39;49m,\n\u001b[1;32m   1870\u001b[0m     keep_attrs\u001b[39m=\u001b[39;49mkeep_attrs,\n\u001b[1;32m   1871\u001b[0m )\n\u001b[1;32m   1873\u001b[0m \u001b[39m# keep the attributes of x, the second parameter, by default to\u001b[39;00m\n\u001b[1;32m   1874\u001b[0m \u001b[39m# be consistent with the `where` method of `DataArray` and `Dataset`\u001b[39;00m\n\u001b[1;32m   1875\u001b[0m \u001b[39m# rebuild the attrs from x at each level of the output, which could be\u001b[39;00m\n\u001b[1;32m   1876\u001b[0m \u001b[39m# Dataset, DataArray, or Variable, and also handle coords\u001b[39;00m\n\u001b[1;32m   1877\u001b[0m \u001b[39mif\u001b[39;00m keep_attrs \u001b[39mis\u001b[39;00m \u001b[39mTrue\u001b[39;00m \u001b[39mand\u001b[39;00m \u001b[39mhasattr\u001b[39m(result, \u001b[39m\"\u001b[39m\u001b[39mattrs\u001b[39m\u001b[39m\"\u001b[39m):\n",
      "File \u001b[0;32m/glade/work/wukenton/conda-envs/python_correct/lib/python3.9/site-packages/xarray/core/computation.py:1197\u001b[0m, in \u001b[0;36mapply_ufunc\u001b[0;34m(func, input_core_dims, output_core_dims, exclude_dims, vectorize, join, dataset_join, dataset_fill_value, keep_attrs, kwargs, dask, output_dtypes, output_sizes, meta, dask_gufunc_kwargs, *args)\u001b[0m\n\u001b[1;32m   1195\u001b[0m \u001b[39m# feed DataArray apply_variable_ufunc through apply_dataarray_vfunc\u001b[39;00m\n\u001b[1;32m   1196\u001b[0m \u001b[39melif\u001b[39;00m \u001b[39many\u001b[39m(\u001b[39misinstance\u001b[39m(a, DataArray) \u001b[39mfor\u001b[39;00m a \u001b[39min\u001b[39;00m args):\n\u001b[0;32m-> 1197\u001b[0m     \u001b[39mreturn\u001b[39;00m apply_dataarray_vfunc(\n\u001b[1;32m   1198\u001b[0m         variables_vfunc,\n\u001b[1;32m   1199\u001b[0m         \u001b[39m*\u001b[39;49margs,\n\u001b[1;32m   1200\u001b[0m         signature\u001b[39m=\u001b[39;49msignature,\n\u001b[1;32m   1201\u001b[0m         join\u001b[39m=\u001b[39;49mjoin,\n\u001b[1;32m   1202\u001b[0m         exclude_dims\u001b[39m=\u001b[39;49mexclude_dims,\n\u001b[1;32m   1203\u001b[0m         keep_attrs\u001b[39m=\u001b[39;49mkeep_attrs,\n\u001b[1;32m   1204\u001b[0m     )\n\u001b[1;32m   1205\u001b[0m \u001b[39m# feed Variables directly through apply_variable_ufunc\u001b[39;00m\n\u001b[1;32m   1206\u001b[0m \u001b[39melif\u001b[39;00m \u001b[39many\u001b[39m(\u001b[39misinstance\u001b[39m(a, Variable) \u001b[39mfor\u001b[39;00m a \u001b[39min\u001b[39;00m args):\n",
      "File \u001b[0;32m/glade/work/wukenton/conda-envs/python_correct/lib/python3.9/site-packages/xarray/core/computation.py:288\u001b[0m, in \u001b[0;36mapply_dataarray_vfunc\u001b[0;34m(func, signature, join, exclude_dims, keep_attrs, *args)\u001b[0m\n\u001b[1;32m    285\u001b[0m \u001b[39mfrom\u001b[39;00m \u001b[39mxarray\u001b[39;00m\u001b[39m.\u001b[39;00m\u001b[39mcore\u001b[39;00m\u001b[39m.\u001b[39;00m\u001b[39mdataarray\u001b[39;00m \u001b[39mimport\u001b[39;00m DataArray\n\u001b[1;32m    287\u001b[0m \u001b[39mif\u001b[39;00m \u001b[39mlen\u001b[39m(args) \u001b[39m>\u001b[39m \u001b[39m1\u001b[39m:\n\u001b[0;32m--> 288\u001b[0m     args \u001b[39m=\u001b[39m deep_align(\n\u001b[1;32m    289\u001b[0m         args, join\u001b[39m=\u001b[39;49mjoin, copy\u001b[39m=\u001b[39;49m\u001b[39mFalse\u001b[39;49;00m, exclude\u001b[39m=\u001b[39;49mexclude_dims, raise_on_invalid\u001b[39m=\u001b[39;49m\u001b[39mFalse\u001b[39;49;00m\n\u001b[1;32m    290\u001b[0m     )\n\u001b[1;32m    292\u001b[0m objs \u001b[39m=\u001b[39m _all_of_type(args, DataArray)\n\u001b[1;32m    294\u001b[0m \u001b[39mif\u001b[39;00m keep_attrs \u001b[39m==\u001b[39m \u001b[39m\"\u001b[39m\u001b[39mdrop\u001b[39m\u001b[39m\"\u001b[39m:\n",
      "File \u001b[0;32m/glade/work/wukenton/conda-envs/python_correct/lib/python3.9/site-packages/xarray/core/alignment.py:850\u001b[0m, in \u001b[0;36mdeep_align\u001b[0;34m(objects, join, copy, indexes, exclude, raise_on_invalid, fill_value)\u001b[0m\n\u001b[1;32m    847\u001b[0m     \u001b[39melse\u001b[39;00m:\n\u001b[1;32m    848\u001b[0m         out\u001b[39m.\u001b[39mappend(variables)\n\u001b[0;32m--> 850\u001b[0m aligned \u001b[39m=\u001b[39m align(\n\u001b[1;32m    851\u001b[0m     \u001b[39m*\u001b[39;49mtargets,\n\u001b[1;32m    852\u001b[0m     join\u001b[39m=\u001b[39;49mjoin,\n\u001b[1;32m    853\u001b[0m     copy\u001b[39m=\u001b[39;49mcopy,\n\u001b[1;32m    854\u001b[0m     indexes\u001b[39m=\u001b[39;49mindexes,\n\u001b[1;32m    855\u001b[0m     exclude\u001b[39m=\u001b[39;49mexclude,\n\u001b[1;32m    856\u001b[0m     fill_value\u001b[39m=\u001b[39;49mfill_value,\n\u001b[1;32m    857\u001b[0m )\n\u001b[1;32m    859\u001b[0m \u001b[39mfor\u001b[39;00m position, key, aligned_obj \u001b[39min\u001b[39;00m \u001b[39mzip\u001b[39m(positions, keys, aligned):\n\u001b[1;32m    860\u001b[0m     \u001b[39mif\u001b[39;00m key \u001b[39mis\u001b[39;00m no_key:\n",
      "File \u001b[0;32m/glade/work/wukenton/conda-envs/python_correct/lib/python3.9/site-packages/xarray/core/alignment.py:787\u001b[0m, in \u001b[0;36malign\u001b[0;34m(join, copy, indexes, exclude, fill_value, *objects)\u001b[0m\n\u001b[1;32m    591\u001b[0m \u001b[39m\u001b[39m\u001b[39m\"\"\"\u001b[39;00m\n\u001b[1;32m    592\u001b[0m \u001b[39mGiven any number of Dataset and/or DataArray objects, returns new\u001b[39;00m\n\u001b[1;32m    593\u001b[0m \u001b[39mobjects with aligned indexes and dimension sizes.\u001b[39;00m\n\u001b[0;32m   (...)\u001b[0m\n\u001b[1;32m    777\u001b[0m \n\u001b[1;32m    778\u001b[0m \u001b[39m\"\"\"\u001b[39;00m\n\u001b[1;32m    779\u001b[0m aligner \u001b[39m=\u001b[39m Aligner(\n\u001b[1;32m    780\u001b[0m     objects,\n\u001b[1;32m    781\u001b[0m     join\u001b[39m=\u001b[39mjoin,\n\u001b[0;32m   (...)\u001b[0m\n\u001b[1;32m    785\u001b[0m     fill_value\u001b[39m=\u001b[39mfill_value,\n\u001b[1;32m    786\u001b[0m )\n\u001b[0;32m--> 787\u001b[0m aligner\u001b[39m.\u001b[39;49malign()\n\u001b[1;32m    788\u001b[0m \u001b[39mreturn\u001b[39;00m aligner\u001b[39m.\u001b[39mresults\n",
      "File \u001b[0;32m/glade/work/wukenton/conda-envs/python_correct/lib/python3.9/site-packages/xarray/core/alignment.py:572\u001b[0m, in \u001b[0;36mAligner.align\u001b[0;34m(self)\u001b[0m\n\u001b[1;32m    570\u001b[0m \u001b[39mself\u001b[39m\u001b[39m.\u001b[39mfind_matching_unindexed_dims()\n\u001b[1;32m    571\u001b[0m \u001b[39mself\u001b[39m\u001b[39m.\u001b[39massert_no_index_conflict()\n\u001b[0;32m--> 572\u001b[0m \u001b[39mself\u001b[39;49m\u001b[39m.\u001b[39;49malign_indexes()\n\u001b[1;32m    573\u001b[0m \u001b[39mself\u001b[39m\u001b[39m.\u001b[39massert_unindexed_dim_sizes_equal()\n\u001b[1;32m    575\u001b[0m \u001b[39mif\u001b[39;00m \u001b[39mself\u001b[39m\u001b[39m.\u001b[39mjoin \u001b[39m==\u001b[39m \u001b[39m\"\u001b[39m\u001b[39moverride\u001b[39m\u001b[39m\"\u001b[39m:\n",
      "File \u001b[0;32m/glade/work/wukenton/conda-envs/python_correct/lib/python3.9/site-packages/xarray/core/alignment.py:417\u001b[0m, in \u001b[0;36mAligner.align_indexes\u001b[0;34m(self)\u001b[0m\n\u001b[1;32m    415\u001b[0m \u001b[39mif\u001b[39;00m need_reindex:\n\u001b[1;32m    416\u001b[0m     \u001b[39mif\u001b[39;00m \u001b[39mself\u001b[39m\u001b[39m.\u001b[39mjoin \u001b[39m==\u001b[39m \u001b[39m\"\u001b[39m\u001b[39mexact\u001b[39m\u001b[39m\"\u001b[39m:\n\u001b[0;32m--> 417\u001b[0m         \u001b[39mraise\u001b[39;00m \u001b[39mValueError\u001b[39;00m(\n\u001b[1;32m    418\u001b[0m             \u001b[39m\"\u001b[39m\u001b[39mcannot align objects with join=\u001b[39m\u001b[39m'\u001b[39m\u001b[39mexact\u001b[39m\u001b[39m'\u001b[39m\u001b[39m where \u001b[39m\u001b[39m\"\u001b[39m\n\u001b[1;32m    419\u001b[0m             \u001b[39m\"\u001b[39m\u001b[39mindex/labels/sizes are not equal along \u001b[39m\u001b[39m\"\u001b[39m\n\u001b[1;32m    420\u001b[0m             \u001b[39m\"\u001b[39m\u001b[39mthese coordinates (dimensions): \u001b[39m\u001b[39m\"\u001b[39m\n\u001b[1;32m    421\u001b[0m             \u001b[39m+\u001b[39m \u001b[39m\"\u001b[39m\u001b[39m, \u001b[39m\u001b[39m\"\u001b[39m\u001b[39m.\u001b[39mjoin(\u001b[39mf\u001b[39m\u001b[39m\"\u001b[39m\u001b[39m{\u001b[39;00mname\u001b[39m!r}\u001b[39;00m\u001b[39m \u001b[39m\u001b[39m{\u001b[39;00mdims\u001b[39m!r}\u001b[39;00m\u001b[39m\"\u001b[39m \u001b[39mfor\u001b[39;00m name, dims \u001b[39min\u001b[39;00m key[\u001b[39m0\u001b[39m])\n\u001b[1;32m    422\u001b[0m         )\n\u001b[1;32m    423\u001b[0m     joiner \u001b[39m=\u001b[39m \u001b[39mself\u001b[39m\u001b[39m.\u001b[39m_get_index_joiner(index_cls)\n\u001b[1;32m    424\u001b[0m     joined_index \u001b[39m=\u001b[39m joiner(matching_indexes)\n",
      "\u001b[0;31mValueError\u001b[0m: cannot align objects with join='exact' where index/labels/sizes are not equal along these coordinates (dimensions): 'lat' ('lat',)"
     ]
    }
   ],
   "source": [
    "#Interpolate to Pressure Coordinates ----------------------------------------------------------------------------------\n",
    "logging.info(\"Interpolating variables to pressure coordinates...\")\n",
    "\n",
    "if current_log_level == 10: print(temp); print(surf_pressure); print(in_zsfc['PHIS']); \n",
    "\n",
    "temp_interp = gcomp.interpolation.interp_hybrid_to_pressure(temp.isel(time=0),surf_pressure.isel(time=0),hyam,hybm, \n",
    "                                                            new_levels=default_levs, \n",
    "                                                            lev_dim = 'lev', \n",
    "                                                            method='log',\n",
    "                                                            extrapolate=True,\n",
    "                                                            variable='temperature',\n",
    "                                                            t_bot=temp.isel(lev=-1,time=0),\n",
    "                                                            phi_sfc=in_zsfc['PHIS'])"
   ]
  }
 ],
 "metadata": {
  "kernelspec": {
   "display_name": "python_correct",
   "language": "python",
   "name": "python3"
  },
  "language_info": {
   "codemirror_mode": {
    "name": "ipython",
    "version": 3
   },
   "file_extension": ".py",
   "mimetype": "text/x-python",
   "name": "python",
   "nbconvert_exporter": "python",
   "pygments_lexer": "ipython3",
   "version": "3.9.16"
  },
  "orig_nbformat": 4
 },
 "nbformat": 4,
 "nbformat_minor": 2
}
