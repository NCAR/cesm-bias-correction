{
 "cells": [
  {
   "cell_type": "code",
   "execution_count": 2,
   "metadata": {},
   "outputs": [],
   "source": [
    "import argparse \n",
    "import ast\n",
    "\n",
    "import cf_xarray\n",
    "#import cftime\n",
    "import geocat.comp as gcomp\n",
    "#import holoviews as hv\n",
    "#import hvplot\n",
    "#import hvplot.xarray\n",
    "#import intake\n",
    "import numpy as np\n",
    "#import pop_tools\n",
    "import xarray as xr\n",
    "import xesmf as xe\n",
    "\n",
    "#from distributed import Client\n",
    "#from ncar_jobqueue import NCARCluster\n",
    "#from pop_tools.grid import _compute_corners\n",
    "\n",
    "import logging \n",
    "import netCDF4 as nc\n",
    "from numba import vectorize, float64, jit, njit"
   ]
  },
  {
   "attachments": {},
   "cell_type": "markdown",
   "metadata": {},
   "source": [
    "## Questions: \n",
    "Do certain variables still need to be reversed?  \n",
    "Is surface geopotential and lowest layer geopotential treated the same here? \n",
    "Does geocat's interp function work across time? \n",
    "Is it better to build an atomic function and use appy_ufunc or build in vectorization? \n",
    "If you use numpy functions on xarray dataarrays, does xarray intercept the function to correct the dimensions? \n",
    "\n",
    "TO DO:  \n",
    "Implement weight reuse  \n",
    "Implement pressure levels   \n",
    "Fix wrong standard name for SST  \n",
    "Add hooks for user-defined reference pressure?  \n",
    "Add hook to keep metadata  \n",
    "Fix up METGRID default value  \n",
    "Implement unit converter (pint) or unit checker  \n",
    "NOTES:   \n",
    "Created a branch for a version that works on cf-compliant data  \n",
    " \n"
   ]
  },
  {
   "cell_type": "code",
   "execution_count": null,
   "metadata": {},
   "outputs": [],
   "source": [
    "#Command line option handling ----------------------------------------------------------------------------------\n",
    "parser = argparse.ArgumentParser()  \n",
    "logging.basicConfig(level=logging.DEBUG)\n",
    "current_log_level = logging.getLogger().getEffectiveLevel() \n",
    "\n",
    "parser.add_argument('CASE',type=str, help='One of the following IPCC Climate Scenarios: 20THC/RCP85/RCP60/RCP45')\n",
    "parser.add_argument('--o',type=str,help='Output directory path')\n",
    "parser.add_argument('--mode','-m',type=str,help='Set logging mode: DEBUG/INFO/WARNING/ERROR/CRITICAL')\n",
    "parser.add_argument('--plev',type=str, help=\"File name of desired output pressure levels\")\n",
    "parser.add_argument('--weights',type=str, help=\"File name if reusing regridding weights\")\n",
    "\n",
    "if current_log_level != 10: \n",
    "    args = parser.parse_args()"
   ]
  },
  {
   "cell_type": "code",
   "execution_count": 3,
   "metadata": {},
   "outputs": [],
   "source": [
    "#File Handling ----------------------------------------------------------------------------------\n",
    "\n",
    "logging.info(\"Opening data files...\")\n",
    "\n",
    "in_ta = xr.load_dataset(\"atmos_ta.nc\")         # 6-hourly 3-d T\n",
    "in_ua = xr.open_dataset(\"atmos_ua.nc\")         # 6-hourly 3-d U\n",
    "in_va = xr.open_dataset(\"atmos_va.nc\")         # 6-hourly 3-d V\n",
    "in_hus = xr.open_dataset(\"atmos_hus.nc\")       # 6-hourly 3-d Q\n",
    "in_ps = xr.load_dataset(\"atmos_ps.nc\")         # 6-hourly surface pressure\n",
    "in_zsfc = xr.open_dataset(\"atmos_zsfc.nc\")     # static surface geopotential\n",
    "#in_lmask = xr.open_dataset(\"atmos_lmask.nc\")   # static land mask\n",
    "#in_snw = xr.open_dataset(\"atmos_snw_1.nc\")     # monthly SWE\n",
    "#in_mrlsl = xr.open_dataset(\"atmos_mrlsl_1.nc\") # monthly soil moisture\n",
    "#in_ts = xr.open_dataset(\"atmos_ts_1.nc\")       # monthly skin temp\n",
    "#in_tsl = xr.open_dataset(\"atmos_tsl_1.nc\")     # monthly soil temp\n",
    "#in_tos = xr.open_dataset(\"atmos_tos_1.nc\")     # daily SST on pop grid (gaussian)\n",
    "#in_sic = xr.open_dataset(\"atmos_sic_1.nc\")     # daily SEAICE % on POP grid (gaussian)"
   ]
  },
  {
   "cell_type": "code",
   "execution_count": null,
   "metadata": {},
   "outputs": [],
   "source": [
    "#Regrid SST and SEA ICE fields to CESM Atmospheric Domain ----------------------------------------------------------------------------------\n",
    "\n",
    "logging.info('Converting Parallel Ocean Program data to coordinate system of atmospheric grid...')\n",
    "\n",
    "SST = in_tos.cf['surface_temperature']\n",
    "#Create a mask (not needed for interpolating to atmospheric grid, but just in case there are missing values)\n",
    "#NOTE THAT THIS CF REFERENCE IS WRONG. SST IS THE CORRECT STANDARD NAME WHICH NEEDS TO BE CORRECTED IN THE DATA\n",
    "in_tos[\"mask\"] = ~SST.cf.isel(time=0).isnull()\n",
    "\n",
    "#Regrids SST grid to whatever the atmospheric grid is automatically\n",
    "regrid = xe.Regridder(in_tos, in_ta, method = 'bilinear', periodic=True, unmapped_to_nan=True)\n",
    "regrid.to_netcdf('weights_gx1v6_latlon.nc') #write out weights for reuse \n",
    "\n",
    "regridded_SST = regrid(in_tos)\n",
    "\n",
    "if current_log_level == 10: \n",
    "    print(regridded_SST)\n",
    "#regridded_SST.to_netcdf('python_regrid.nc')\n",
    "#\n",
    "#use some sort of broadcasting or view here to clone to a 6-hrly variable"
   ]
  },
  {
   "cell_type": "code",
   "execution_count": 4,
   "metadata": {},
   "outputs": [],
   "source": [
    "#Prepare Variables for Interpolation ----------------------------------------------------------------------------------\n",
    "\n",
    "hyam = in_ta.cf['hyam'] \n",
    "hybm = in_ta.cf['hybm']\n",
    "hyai = in_ta.cf['hyai']\n",
    "hybi = in_ta.cf['hybi']\n",
    "\n",
    "surf_pressure = in_ps.cf['PS']\n",
    "\n",
    "phi_surf = in_zsfc['PHIS']\n",
    "phi_surf.coords['lat'] = surf_pressure.coords['lat']\n",
    "phi_surf.coords['lon'] = surf_pressure.coords['lon']\n",
    "temp = in_ta[\"T\"]    \n"
   ]
  },
  {
   "attachments": {},
   "cell_type": "markdown",
   "metadata": {},
   "source": [
    "Check that this is correct - it seems like the coordinate system is somewhat reversed."
   ]
  },
  {
   "cell_type": "code",
   "execution_count": 5,
   "metadata": {},
   "outputs": [
    {
     "name": "stdout",
     "output_type": "stream",
     "text": [
      "<xarray.DataArray 'P_hybrid' (time: 360, lev: 26, lat: 192, lon: 288)>\n",
      "[517570560 values with dtype=float32]\n",
      "Dimensions without coordinates: time, lev, lat, lon\n"
     ]
    }
   ],
   "source": [
    "#%%timeit -r 10\n",
    "\n",
    "@vectorize([float64(float64,float64,float64,float64)],nopython=True)\n",
    "def pres_on_hybrid_ccm_atomic(pressure_surf, hyam_k, hybm_k, ref_pressure): \n",
    "    return hyam_k*ref_pressure + hybm_k*pressure_surf \n",
    "\n",
    "#need assertion that missing values are correct \n",
    "\n",
    "def pres_on_hybrid_ccm(pressure_surf : xr.DataArray , hyam: xr.DataArray, hybm: xr.DataArray, ref_pressure =  100000): \n",
    "    return xr.apply_ufunc(pres_on_hybrid_ccm_atomic, pressure_surf, hyam, hybm, ref_pressure) \n",
    "\n",
    "#This cast was present in the original ncl script, so we are keeping it here. \n",
    "P_hybrid = pres_on_hybrid_ccm(surf_pressure,hyam,hybm).astype(np.single)\n",
    "#print(P_hybrid)\n",
    "\n",
    "ncl_P_hybrid = xr.open_dataarray('ncl_P_hybrid.nc')\n",
    "ncl_P_hybrid = ncl_P_hybrid.rename({'ncl0':'time', 'ncl1':'lev', 'ncl2':'lat', 'ncl3':'lon'})\n",
    "print(ncl_P_hybrid)"
   ]
  },
  {
   "cell_type": "code",
   "execution_count": null,
   "metadata": {},
   "outputs": [],
   "source": [
    "ncl_P_hybrid.coords['time'] = P_hybrid.coords['time']\n",
    "ncl_P_hybrid.coords['lev'] = P_hybrid.coords['lev'][::-1]\n",
    "ncl_P_hybrid.coords['lat'] = P_hybrid.coords['lat']\n",
    "ncl_P_hybrid.coords['lon'] = P_hybrid.coords['lon']\n",
    "\n",
    "print(P_hybrid.isel(time = 0, lat = 0, lon = 0))\n",
    "print(ncl_P_hybrid.isel(time = 0, lat = 0, lon = 0, lev = slice(None,None,-1)).values)\n",
    "np.max(P_hybrid-ncl_P_hybrid)\n"
   ]
  },
  {
   "attachments": {},
   "cell_type": "markdown",
   "metadata": {},
   "source": [
    "Piecewise, Piecewise with jit"
   ]
  },
  {
   "cell_type": "code",
   "execution_count": null,
   "metadata": {},
   "outputs": [],
   "source": []
  },
  {
   "attachments": {},
   "cell_type": "markdown",
   "metadata": {},
   "source": [
    "Atomic execution with vectorize"
   ]
  },
  {
   "cell_type": "code",
   "execution_count": 30,
   "metadata": {},
   "outputs": [
    {
     "name": "stdout",
     "output_type": "stream",
     "text": [
      "1.1 s ± 6.87 ms per loop (mean ± std. dev. of 10 runs, 1 loop each)\n"
     ]
    }
   ],
   "source": [
    "%%timeit -r 10\n",
    "\n",
    "@vectorize([float64(float64,float64,float64,float64)],nopython=True)\n",
    "def pslec_atomic(temp_bot,phi_s,ps,pressure_bot): \n",
    "\n",
    "    LAPSE_RATE = 0.0065     #Kelvin per meter\n",
    "    GRAV_CONST = 9.80616    #Meters per second per second\n",
    "    SPEC_GAS_CONST = 287.04 #Joules per kilogram per Kelvin\n",
    "\n",
    "    ALPHA_0 = LAPSE_RATE*SPEC_GAS_CONST/GRAV_CONST\n",
    "    \n",
    "    temp_surf = temp_bot*(1 + ALPHA_0*(ps/pressure_bot - 1)) #3b.5\n",
    "    temp_bot_lapse = temp_surf + LAPSE_RATE*phi_s/GRAV_CONST #denoted T_0 in doc, 3b.13\n",
    "\n",
    "    #These cases are partitions - there is no overlap in cases here. \n",
    "    if abs(phi_s/GRAV_CONST) < 1e-4: \n",
    "        psl = ps\n",
    "    elif temp_surf >= 255 and temp_bot_lapse <= 290.5: \n",
    "        combo_term = ALPHA_0*phi_s/SPEC_GAS_CONST/temp_surf \n",
    "        psl =  ps*np.exp(combo_term/ALPHA_0*(1-1/2*(combo_term)+1/3*(combo_term)**2))\n",
    "    elif temp_surf > 290.5 and temp_bot_lapse > 290.5: \n",
    "        T_star_modified = 1/2*(290.5+temp_surf) \n",
    "        psl = ps*np.exp(phi_s/SPEC_GAS_CONST/T_star_modified)\n",
    "    elif temp_surf >=255 and temp_surf <= 290.5 and temp_bot_lapse > 290.5: \n",
    "        combo_term = 290.5-temp_surf\n",
    "        psl = ps*np.exp(phi_s/SPEC_GAS_CONST/temp_surf*(1-1/2*(combo_term)+1/3*(combo_term)**2))\n",
    "    elif temp_surf < 255 and temp_bot_lapse <= 290.5: \n",
    "        T_star_modified = 1/2*(255+temp_surf)\n",
    "        combo_term = ALPHA_0*phi_s/SPEC_GAS_CONST/T_star_modified \n",
    "        psl =  ps*np.exp(combo_term/ALPHA_0*(1-1/2*(combo_term)+1/3*(combo_term)**2))\n",
    "    elif temp_surf < 255 and temp_bot_lapse > 290.5: \n",
    "        alpha = SPEC_GAS_CONST/phi_s*(290.5-temp_surf)\n",
    "        T_star_modified = 1/2*(255+temp_surf)\n",
    "        combo_term = alpha*phi_s/SPEC_GAS_CONST/T_star_modified \n",
    "        psl = ps*np.exp(combo_term/alpha*(1-1/2*(combo_term)+1/3*(combo_term)**2))    \n",
    "    \n",
    "    return psl \n",
    "    \n",
    "def pslec(temp_bottom: xr.DataArray, phi_surf: xr.DataArray, pressure_surf: xr.DataArray, pressure_bot: xr.DataArray): \n",
    "    return xr.apply_ufunc(pslec_atomic,temp_bottom,phi_surf,pressure_surf,pressure_bot)\n",
    "\n",
    "\n",
    "test_pressure = pslec(temp.isel(lev=-1), phi_surf, surf_pressure, P_hybrid.isel(lev=-1))"
   ]
  },
  {
   "attachments": {},
   "cell_type": "markdown",
   "metadata": {},
   "source": [
    "Partial where with no jit"
   ]
  },
  {
   "cell_type": "code",
   "execution_count": 11,
   "metadata": {},
   "outputs": [],
   "source": [
    "#%%timeit -r 10\n",
    "\n",
    "def _pslec(t_bot, phi_sfc, ps, pressure_bot):\n",
    "    R_d = 287.04  # dry air gas constant\n",
    "    g_inv = 1 / 9.80616  # inverse of gravity\n",
    "    alpha = 0.0065 * R_d * g_inv\n",
    "\n",
    "    tstar = t_bot * (1 + alpha * (ps / pressure_bot - 1))\n",
    "    hgt = phi_sfc * g_inv\n",
    "    t0 = tstar + 0.0065 * hgt\n",
    "\n",
    "    alph = xr.where((tstar <= 290.5) & (t0 > 290.5),\n",
    "                    R_d / phi_sfc * (290.5 - tstar), alpha)\n",
    "\n",
    "    alph = xr.where((tstar > 290.5) & (t0 > 290.5), 0, alph)\n",
    "    tstar = xr.where((tstar > 290.5) & (t0 > 290.5), 0.5 * (290.5 + tstar),\n",
    "                     tstar)\n",
    "\n",
    "    tstar = xr.where((tstar < 255), 0.5 * (tstar + 255), tstar)\n",
    "\n",
    "    beta = phi_sfc/R_d/tstar\n",
    "    return ps*np.exp(beta*(1-alph*beta/2+(alph*beta)**2/3))\n",
    "\n",
    "test_pressure = _pslec(temp.isel(lev=-1), phi_surf, surf_pressure, P_hybrid.isel(lev=-1))\n"
   ]
  },
  {
   "attachments": {},
   "cell_type": "markdown",
   "metadata": {},
   "source": [
    "Where with jit"
   ]
  },
  {
   "cell_type": "code",
   "execution_count": 22,
   "metadata": {},
   "outputs": [],
   "source": [
    "#%%timeit -r 10\n",
    "\n",
    "@njit\n",
    "def _pslec_jit(t_bot: np.array , phi_sfc: np.array , ps: np.array, pressure_bot: np.array):\n",
    "    R_d = 287.04  # dry air gas constant\n",
    "    g_inv = 1 / 9.80616  # inverse of gravity\n",
    "    alpha = 0.0065 * R_d * g_inv\n",
    "\n",
    "    tstar = t_bot * (1 + alpha * (ps / pressure_bot - 1))\n",
    "    hgt = phi_sfc * g_inv\n",
    "    t0 = tstar + 0.0065 * hgt\n",
    "\n",
    "    alph = np.where((tstar <= 290.5) & (t0 > 290.5),\n",
    "                    R_d / phi_sfc * (290.5 - tstar), alpha)\n",
    "\n",
    "    alph = np.where((tstar > 290.5) & (t0 > 290.5), 0, alph)\n",
    "    tstar = np.where((tstar > 290.5) & (t0 > 290.5), 0.5 * (290.5 + tstar),\n",
    "                     tstar)\n",
    "\n",
    "    tstar = np.where((tstar < 255), 0.5 * (tstar + 255), tstar)\n",
    "\n",
    "    beta = phi_sfc/R_d/tstar\n",
    "    return ps*np.exp(beta*(1-alph*beta/2+(alph*beta)**2/3))\n",
    "\n",
    "temp_bc, phi_surf_bc, surf_pressure_bc, P_hybrid_bc = xr.broadcast(temp.isel(lev=-1),phi_surf,surf_pressure, P_hybrid.isel(lev=-1))\n",
    "test_pressure = _pslec_jit(temp_bc.values, phi_surf_bc.values, surf_pressure_bc.values, P_hybrid_bc.values)"
   ]
  },
  {
   "cell_type": "code",
   "execution_count": 21,
   "metadata": {},
   "outputs": [
    {
     "name": "stdout",
     "output_type": "stream",
     "text": [
      "246.69228\n",
      "27701.627573972324\n",
      "68952.78\n",
      "68439.5\n",
      "99933.59998192343\n",
      "99933.59998192343\n",
      "<xarray.DataArray ()>\n",
      "array(99933.59998192)\n",
      "Coordinates:\n",
      "    lat      float64 -90.0\n",
      "    lev      float64 992.6\n",
      "    lon      float64 0.0\n",
      "    time     object 2006-01-01 00:00:00\n"
     ]
    }
   ],
   "source": [
    "test_temp = temp.isel(lat=0,lon=0,time=0,lev=-1).values #* np.ones((2,2))\n",
    "test_phi = phi_surf.isel(lon=0,lat=0).values #* np.ones((2,2))\n",
    "test_surf = surf_pressure.isel(lon=0,lat=0,time=0).values# * np.ones((2,2))\n",
    "test_hybrid = P_hybrid.isel(lat=0,lon=0,lev=-1,time=0).values# * np.ones((2,2))\n",
    "\n",
    "\n",
    "print(test_temp)\n",
    "print(test_phi)\n",
    "print(test_surf)\n",
    "print(test_hybrid)\n",
    "\n",
    "test_pressure_atomic = pslec_atomic(test_temp, test_phi, test_surf, test_hybrid)\n",
    "test_pressure_xr = pslec(test_temp,test_phi,test_surf,test_hybrid) \n",
    "\n",
    "print(test_pressure_atomic)\n",
    "print(test_pressure_xr)\n",
    "print(test_pressure.isel(lat=0,lon=0))\n"
   ]
  },
  {
   "attachments": {},
   "cell_type": "markdown",
   "metadata": {},
   "source": [
    "For loop with no jit"
   ]
  },
  {
   "cell_type": "code",
   "execution_count": null,
   "metadata": {},
   "outputs": [],
   "source": [
    "def pslec_for(T_bot,phi_s,ps,pressure_bot): \n",
    "\n",
    "   LAPSE_RATE = 0.0065     #Kelvin per meter\n",
    "   GRAV_CONST = 9.80616    #Meters per second per second\n",
    "   SPEC_GAS_CONST = 287.04 #Joules per kilogram per Kelvin\n",
    "\n",
    "   ALPHA_0 = LAPSE_RATE*SPEC_GAS_CONST/GRAV_CONST\n",
    "    \n",
    "   psl = xr.zeros_like(ps)\n",
    "   lats = pressure_bot.coords['lat']\n",
    "   lons = pressure_bot.coords['lon']\n",
    "   for lati in lats: \n",
    "      for long in lons: \n",
    "         if abs(phi_s.sel(lat=lati,lon=long)/GRAV_CONST):\n",
    "            psl.loc[dict(lat=lati,lon=long)] = ps.sel(lat=lati,lon=long)\n",
    "         else: \n",
    "            tstar = T_bot.sel(lat=lati,lon=long) * (1+ALPHA_0) * (ps.sel(lat=lati,lon=long)/pressure_bot.sel(lat=lati,lon=long)-1)\n",
    "            T0 = tstar + LAPSE_RATE*phi_s.sel(lat=lati,lon=long)/GRAV_CONST\n",
    "            if tstar <= 290.5 and T0 > 290.5: \n",
    "               ALPHA = SPEC_GAS_CONST/phi_s.sel(lat=lati,lon=long) * (290.5 - tstar)\n",
    "            elif tstar > 290.5  and T0 > 290.5: \n",
    "               ALPHA = 0\n",
    "               tstar = 0.5* (290.5+tstar)\n",
    "            else: \n",
    "               ALPHA = ALPHA_0\n",
    "            if tstar < 255: \n",
    "               tstar = 0.5* (255+tstar)\n",
    "            BETA = phi_s.sel(lat=lati,lon=long)/ (SPEC_GAS_CONST*tstar)\n",
    "            psl.loc[dict(lat=lati,lon=long)] = ps.sel(lat=lati,lon=long) * np.exp(BETA* (1-ALPHA*BETA/2+((ALPHA*BETA)**2)/3))\n",
    "         \n",
    "   return psl \n",
    "\n",
    "test_pressure = pslec_for(temp.isel(lev=-1,time=0), phi_surf, surf_pressure.isel(time=0), P_hybrid.isel(lev=-1,time=0))"
   ]
  },
  {
   "attachments": {},
   "cell_type": "markdown",
   "metadata": {},
   "source": [
    "For loop with jit"
   ]
  },
  {
   "cell_type": "code",
   "execution_count": 29,
   "metadata": {},
   "outputs": [
    {
     "name": "stdout",
     "output_type": "stream",
     "text": [
      "849 ms ± 8.56 ms per loop (mean ± std. dev. of 10 runs, 1 loop each)\n"
     ]
    }
   ],
   "source": [
    "%%timeit -r 10\n",
    "\n",
    "@njit\n",
    "def pslec_for_jit(T_bot,phi_s,ps,pressure_bot): \n",
    "\n",
    "   LAPSE_RATE = 0.0065     #Kelvin per meter\n",
    "   GRAV_CONST = 9.80616    #Meters per second per second\n",
    "   SPEC_GAS_CONST = 287.04 #Joules per kilogram per Kelvin\n",
    "\n",
    "   ALPHA_0 = LAPSE_RATE*SPEC_GAS_CONST/GRAV_CONST\n",
    "    \n",
    "   ntim = ps.shape[0]\n",
    "   nlat = ps.shape[1]\n",
    "   nlon = ps.shape[2]\n",
    "   psl = np.zeros_like(ps)\n",
    "   for t in range(ntim):\n",
    "      for lati in range(nlat): \n",
    "         for long in range(nlon): \n",
    "            if abs(phi_s[t,lati,long]/GRAV_CONST):\n",
    "               psl[t,lati,long] = ps[t,lati,long]\n",
    "            else: \n",
    "               tstar = T_bot[t,lati,long] * (1+ALPHA_0) * (ps[t,lati,long]/pressure_bot[t,lati,long]-1)\n",
    "               T0 = tstar + LAPSE_RATE*phi_s[t,lati,long]/GRAV_CONST\n",
    "               if tstar <= 290.5 and T0 > 290.5: \n",
    "                  ALPHA = SPEC_GAS_CONST/phi_s[t,lati,long] * (290.5 - tstar)\n",
    "               elif tstar > 290.5  and T0 > 290.5: \n",
    "                  ALPHA = 0\n",
    "                  tstar = 0.5* (290.5+tstar)\n",
    "               else: \n",
    "                  ALPHA = ALPHA_0\n",
    "               if tstar < 255: \n",
    "                  tstar = 0.5* (255+tstar)\n",
    "               BETA = phi_s[t,lati,long]/ (SPEC_GAS_CONST*tstar)\n",
    "               psl[t,lati,long] = ps[t,lati,long] * np.exp(BETA* (1-ALPHA*BETA/2+((ALPHA*BETA)**2)/3))\n",
    "            \n",
    "   return psl \n",
    "\n",
    "temp_bc, phi_surf_bc, surf_pressure_bc, P_hybrid_bc = xr.broadcast(temp.isel(lev=-1),phi_surf,surf_pressure, P_hybrid.isel(lev=-1))\n",
    "test_pressure = pslec_for_jit(temp_bc.values, phi_surf_bc.values, surf_pressure_bc.values, P_hybrid_bc.values)"
   ]
  },
  {
   "cell_type": "code",
   "execution_count": 11,
   "metadata": {},
   "outputs": [
    {
     "name": "stdout",
     "output_type": "stream",
     "text": [
      "<xarray.DataArray ()>\n",
      "array(99933.59998192)\n",
      "Coordinates:\n",
      "    lat      float64 -90.0\n",
      "    lev      float64 992.6\n",
      "    lon      float64 0.0\n",
      "    time     object 2006-01-01 00:00:00\n",
      "100494.99\n"
     ]
    }
   ],
   "source": [
    "ncl_pslec = xr.open_dataarray('ncl_pslec.nc')\n",
    "\n",
    "print(test_pressure.isel(lat=0,lon=0))\n",
    "print(ncl_pslec.isel(lat=0,lon=0).values)\n"
   ]
  },
  {
   "cell_type": "code",
   "execution_count": 23,
   "metadata": {},
   "outputs": [
    {
     "name": "stdout",
     "output_type": "stream",
     "text": [
      "<xarray.DataArray 'T' (plev: 26, lat: 192, lon: 288)>\n",
      "dask.array<setitem, shape=(26, 192, 288), dtype=float32, chunksize=(26, 192, 288), chunktype=numpy.ndarray>\n",
      "Coordinates:\n",
      "    time     object 2006-01-01 00:00:00\n",
      "  * lat      (lat) float64 -90.0 -89.06 -88.12 -87.17 ... 87.17 88.12 89.06 90.0\n",
      "  * plev     (plev) float64 1e+03 975.0 950.0 925.0 ... 50.0 30.0 20.0 10.0\n",
      "  * lon      (lon) float64 0.0 1.25 2.5 3.75 5.0 ... 355.0 356.2 357.5 358.8\n",
      "Attributes:\n",
      "    units:      K\n",
      "    long_name:  Temperature\n"
     ]
    }
   ],
   "source": [
    "#Interpolate to Pressure Coordinates ----------------------------------------------------------------------------------\n",
    "#logging.info(\"Interpolating variables to pressure coordinates...\")\n",
    "\n",
    "#if current_log_level == 10: print(temp); print(surf_pressure); print(in_zsfc['PHIS']); \n",
    "hyam = in_ta.cf['hyam'] \n",
    "hybm = in_ta.cf['hybm']\n",
    "hyai = in_ta.cf['hyai']\n",
    "hybi = in_ta.cf['hybi']\n",
    "default_levs = np.array([1000.0, 975.0, 950.0, 925.0, 900.0, 850.0, 800.0, 750.0, 700.0, 650.0, 600.0, 550.0, 500.0, \\\n",
    "             450.0, 400.0, 350.0, 300.0, 250.0, 200.0, 150.0, 100.0, 70.0, 50.0, 30.0, 20.0, 10.0 ])\n",
    "\n",
    "\n",
    "surf_pressure = in_ps.cf['PS']\n",
    "phi_surf = in_zsfc['PHIS']\n",
    "temp = in_ta[\"T\"]    \n",
    "fixed_phi_sfc = in_zsfc['PHIS']  \n",
    "fixed_phi_sfc.coords['lat'] = surf_pressure.coords['lat']\n",
    "fixed_phi_sfc.coords['lon'] = surf_pressure.coords['lon'] \n",
    "\n",
    "temp_interp = gcomp.interpolation.interp_hybrid_to_pressure(temp.isel(time=0),surf_pressure.isel(time=0),hyam,hybm, \n",
    "                                                            new_levels=default_levs, \n",
    "                                                            lev_dim = 'lev', \n",
    "                                                            method='log',\n",
    "                                                            extrapolate=True,\n",
    "                                                            variable='temperature',\n",
    "                                                            t_bot=temp.isel(lev=-1,time=0),\n",
    "                                                            phi_sfc=fixed_phi_sfc)\n",
    "\n",
    "print(temp_interp)"
   ]
  }
 ],
 "metadata": {
  "kernelspec": {
   "display_name": "python_correct",
   "language": "python",
   "name": "python3"
  },
  "language_info": {
   "codemirror_mode": {
    "name": "ipython",
    "version": 3
   },
   "file_extension": ".py",
   "mimetype": "text/x-python",
   "name": "python",
   "nbconvert_exporter": "python",
   "pygments_lexer": "ipython3",
   "version": "3.9.16"
  },
  "orig_nbformat": 4
 },
 "nbformat": 4,
 "nbformat_minor": 2
}
