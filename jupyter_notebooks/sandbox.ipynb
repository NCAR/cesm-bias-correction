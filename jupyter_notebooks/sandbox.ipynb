{
 "cells": [
  {
   "cell_type": "code",
   "execution_count": 1,
   "metadata": {},
   "outputs": [
    {
     "name": "stdout",
     "output_type": "stream",
     "text": [
      "<xarray.DataArray (dim_0: 4)>\n",
      "array([2, 3, 4, 5])\n",
      "Dimensions without coordinates: dim_0\n",
      "<xarray.DataArray (dim_0: 4)>\n",
      "array([1, 1, 4, 5])\n",
      "Dimensions without coordinates: dim_0\n"
     ]
    }
   ],
   "source": [
    "#Use this space to test xarray behaviors\n",
    "import xarray \n",
    "\n",
    "data = xarray.DataArray([1,2,3,4])\n",
    "\n",
    "def add_one(datum):\n",
    "    result = datum + 1\n",
    "    print(result)\n",
    "    return result \n",
    "\n",
    "\n",
    "print(xarray.where(data < 3, 1, add_one(data)))"
   ]
  },
  {
   "attachments": {},
   "cell_type": "markdown",
   "metadata": {},
   "source": [
    "Here, the return argument is a scalar. It is only called once, and this value is taken to fill the array. "
   ]
  },
  {
   "cell_type": "code",
   "execution_count": 3,
   "metadata": {},
   "outputs": [
    {
     "name": "stdout",
     "output_type": "stream",
     "text": [
      "here!\n",
      "<xarray.DataArray (dim_0: 4)>\n",
      "array([2, 1, 1, 1])\n",
      "Dimensions without coordinates: dim_0\n"
     ]
    }
   ],
   "source": [
    "def return_one(): \n",
    "    print('here!')\n",
    "    return 1 \n",
    "\n",
    "print(xarray.where(data < 2, 2, return_one()))"
   ]
  },
  {
   "cell_type": "code",
   "execution_count": 4,
   "metadata": {},
   "outputs": [
    {
     "ename": "IndexError",
     "evalue": "tuple index out of range",
     "output_type": "error",
     "traceback": [
      "\u001b[0;31m---------------------------------------------------------------------------\u001b[0m",
      "\u001b[0;31mIndexError\u001b[0m                                Traceback (most recent call last)",
      "Cell \u001b[0;32mIn[4], line 1\u001b[0m\n\u001b[0;32m----> 1\u001b[0m xarray\u001b[39m.\u001b[39;49mDataset(data_vars\u001b[39m=\u001b[39;49m\u001b[39mdict\u001b[39;49m(first\u001b[39m=\u001b[39;49m()))\n",
      "File \u001b[0;32m/glade/work/wukenton/conda-envs/python_correct/lib/python3.9/site-packages/xarray/core/dataset.py:652\u001b[0m, in \u001b[0;36mDataset.__init__\u001b[0;34m(self, data_vars, coords, attrs)\u001b[0m\n\u001b[1;32m    649\u001b[0m \u001b[39mif\u001b[39;00m \u001b[39misinstance\u001b[39m(coords, Dataset):\n\u001b[1;32m    650\u001b[0m     coords \u001b[39m=\u001b[39m coords\u001b[39m.\u001b[39m_variables\n\u001b[0;32m--> 652\u001b[0m variables, coord_names, dims, indexes, _ \u001b[39m=\u001b[39m merge_data_and_coords(\n\u001b[1;32m    653\u001b[0m     data_vars, coords, compat\u001b[39m=\u001b[39;49m\u001b[39m\"\u001b[39;49m\u001b[39mbroadcast_equals\u001b[39;49m\u001b[39m\"\u001b[39;49m\n\u001b[1;32m    654\u001b[0m )\n\u001b[1;32m    656\u001b[0m \u001b[39mself\u001b[39m\u001b[39m.\u001b[39m_attrs \u001b[39m=\u001b[39m \u001b[39mdict\u001b[39m(attrs) \u001b[39mif\u001b[39;00m attrs \u001b[39mis\u001b[39;00m \u001b[39mnot\u001b[39;00m \u001b[39mNone\u001b[39;00m \u001b[39melse\u001b[39;00m \u001b[39mNone\u001b[39;00m\n\u001b[1;32m    657\u001b[0m \u001b[39mself\u001b[39m\u001b[39m.\u001b[39m_close \u001b[39m=\u001b[39m \u001b[39mNone\u001b[39;00m\n",
      "File \u001b[0;32m/glade/work/wukenton/conda-envs/python_correct/lib/python3.9/site-packages/xarray/core/merge.py:569\u001b[0m, in \u001b[0;36mmerge_data_and_coords\u001b[0;34m(data_vars, coords, compat, join)\u001b[0m\n\u001b[1;32m    567\u001b[0m objects \u001b[39m=\u001b[39m [data_vars, coords]\n\u001b[1;32m    568\u001b[0m explicit_coords \u001b[39m=\u001b[39m coords\u001b[39m.\u001b[39mkeys()\n\u001b[0;32m--> 569\u001b[0m \u001b[39mreturn\u001b[39;00m merge_core(\n\u001b[1;32m    570\u001b[0m     objects,\n\u001b[1;32m    571\u001b[0m     compat,\n\u001b[1;32m    572\u001b[0m     join,\n\u001b[1;32m    573\u001b[0m     explicit_coords\u001b[39m=\u001b[39;49mexplicit_coords,\n\u001b[1;32m    574\u001b[0m     indexes\u001b[39m=\u001b[39;49mIndexes(indexes, coords),\n\u001b[1;32m    575\u001b[0m )\n",
      "File \u001b[0;32m/glade/work/wukenton/conda-envs/python_correct/lib/python3.9/site-packages/xarray/core/merge.py:755\u001b[0m, in \u001b[0;36mmerge_core\u001b[0;34m(objects, compat, join, combine_attrs, priority_arg, explicit_coords, indexes, fill_value)\u001b[0m\n\u001b[1;32m    751\u001b[0m coerced \u001b[39m=\u001b[39m coerce_pandas_values(objects)\n\u001b[1;32m    752\u001b[0m aligned \u001b[39m=\u001b[39m deep_align(\n\u001b[1;32m    753\u001b[0m     coerced, join\u001b[39m=\u001b[39mjoin, copy\u001b[39m=\u001b[39m\u001b[39mFalse\u001b[39;00m, indexes\u001b[39m=\u001b[39mindexes, fill_value\u001b[39m=\u001b[39mfill_value\n\u001b[1;32m    754\u001b[0m )\n\u001b[0;32m--> 755\u001b[0m collected \u001b[39m=\u001b[39m collect_variables_and_indexes(aligned, indexes\u001b[39m=\u001b[39;49mindexes)\n\u001b[1;32m    756\u001b[0m prioritized \u001b[39m=\u001b[39m _get_priority_vars_and_indexes(aligned, priority_arg, compat\u001b[39m=\u001b[39mcompat)\n\u001b[1;32m    757\u001b[0m variables, out_indexes \u001b[39m=\u001b[39m merge_collected(\n\u001b[1;32m    758\u001b[0m     collected, prioritized, compat\u001b[39m=\u001b[39mcompat, combine_attrs\u001b[39m=\u001b[39mcombine_attrs\n\u001b[1;32m    759\u001b[0m )\n",
      "File \u001b[0;32m/glade/work/wukenton/conda-envs/python_correct/lib/python3.9/site-packages/xarray/core/merge.py:354\u001b[0m, in \u001b[0;36mcollect_variables_and_indexes\u001b[0;34m(list_of_mappings, indexes)\u001b[0m\n\u001b[1;32m    351\u001b[0m     indexes_\u001b[39m.\u001b[39mpop(name, \u001b[39mNone\u001b[39;00m)\n\u001b[1;32m    352\u001b[0m     append_all(coords_, indexes_)\n\u001b[0;32m--> 354\u001b[0m variable \u001b[39m=\u001b[39m as_variable(variable, name\u001b[39m=\u001b[39;49mname)\n\u001b[1;32m    355\u001b[0m \u001b[39mif\u001b[39;00m name \u001b[39min\u001b[39;00m indexes:\n\u001b[1;32m    356\u001b[0m     append(name, variable, indexes[name])\n",
      "File \u001b[0;32m/glade/work/wukenton/conda-envs/python_correct/lib/python3.9/site-packages/xarray/core/variable.py:126\u001b[0m, in \u001b[0;36mas_variable\u001b[0;34m(obj, name)\u001b[0m\n\u001b[1;32m    124\u001b[0m     obj \u001b[39m=\u001b[39m obj\u001b[39m.\u001b[39mcopy(deep\u001b[39m=\u001b[39m\u001b[39mFalse\u001b[39;00m)\n\u001b[1;32m    125\u001b[0m \u001b[39melif\u001b[39;00m \u001b[39misinstance\u001b[39m(obj, \u001b[39mtuple\u001b[39m):\n\u001b[0;32m--> 126\u001b[0m     \u001b[39mif\u001b[39;00m \u001b[39misinstance\u001b[39m(obj[\u001b[39m1\u001b[39;49m], DataArray):\n\u001b[1;32m    127\u001b[0m         \u001b[39mraise\u001b[39;00m \u001b[39mTypeError\u001b[39;00m(\n\u001b[1;32m    128\u001b[0m             \u001b[39m\"\u001b[39m\u001b[39mUsing a DataArray object to construct a variable is\u001b[39m\u001b[39m\"\u001b[39m\n\u001b[1;32m    129\u001b[0m             \u001b[39m\"\u001b[39m\u001b[39m ambiguous, please extract the data using the .data property.\u001b[39m\u001b[39m\"\u001b[39m\n\u001b[1;32m    130\u001b[0m         )\n\u001b[1;32m    131\u001b[0m     \u001b[39mtry\u001b[39;00m:\n",
      "\u001b[0;31mIndexError\u001b[0m: tuple index out of range"
     ]
    }
   ],
   "source": [
    "xarray.Dataset(data_vars=dict(first=()))"
   ]
  },
  {
   "cell_type": "code",
   "execution_count": 5,
   "metadata": {},
   "outputs": [
    {
     "name": "stdout",
     "output_type": "stream",
     "text": [
      "here!\n",
      "here!\n",
      "here!\n",
      "here!\n",
      "[1, 1, 1, 1]\n"
     ]
    }
   ],
   "source": [
    " \n",
    "left = [True, False, False, False] \n",
    "right = [return_one(), return_one(), return_one(), return_one()]\n",
    "\n",
    "print(left and right)\n",
    "\n"
   ]
  },
  {
   "attachments": {},
   "cell_type": "markdown",
   "metadata": {},
   "source": [
    "2D boolean indexing is not a thing. "
   ]
  },
  {
   "cell_type": "code",
   "execution_count": 3,
   "metadata": {},
   "outputs": [],
   "source": [
    "import numpy as np\n",
    "\n",
    "mask = xarray.DataArray([[True, False],[True,False]])\n",
    "data = xarray.DataArray([[1,2],[3,4]],dims = {'row': ['a','b'],'col': [1,2]})\n",
    "delta = xarray.DataArray([[1,1],[1,1]],dims = {'row': ['a','b'],'col': [1,2]})\n",
    "beta = xarray.DataArray([[9,9],[9,9]])\n",
    "#print(np.add(data,delta, where = mask))\n",
    "\n",
    "threeD = np.dstack((data,delta,beta))"
   ]
  },
  {
   "cell_type": "code",
   "execution_count": 4,
   "metadata": {},
   "outputs": [
    {
     "data": {
      "text/plain": [
       "array([9, 9, 3, 9, 4, 9])"
      ]
     },
     "execution_count": 4,
     "metadata": {},
     "output_type": "execute_result"
    }
   ],
   "source": [
    "mask = threeD > 2\n",
    "threeD[mask]"
   ]
  }
 ],
 "metadata": {
  "kernelspec": {
   "display_name": "python_correct",
   "language": "python",
   "name": "python3"
  },
  "language_info": {
   "codemirror_mode": {
    "name": "ipython",
    "version": 3
   },
   "file_extension": ".py",
   "mimetype": "text/x-python",
   "name": "python",
   "nbconvert_exporter": "python",
   "pygments_lexer": "ipython3",
   "version": "3.9.16"
  },
  "orig_nbformat": 4
 },
 "nbformat": 4,
 "nbformat_minor": 2
}
